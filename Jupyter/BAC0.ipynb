{
 "cells": [
  {
   "cell_type": "markdown",
   "metadata": {},
   "source": [
    "# BAC0\n",
    "\n",
    "BAC0 is a script module based on bacpypes (https://github.com/JoelBender/bacpypes.git) to automate task using Bacnet/IP protocole. It's mainly targetted as a tool to test sequences on DDC controlelrs using bacnet.\n",
    "\n",
    "Using the simplciity of python, the power of pandas, it's easy to test and keep a trace of the history of each points.\n",
    "\n",
    "## How to use\n",
    "\n",
    "First you must install the 2 modules\n",
    "pip install bacpypes\n",
    "- git clone https://github.com/ChristianTremblay/BAC0.git (python setup.py install)\n",
    "\n",
    "Note : All tests have been done in Windows 7 using Anaconda3 (http://continuum.io/downloads)"
   ]
  },
  {
   "cell_type": "markdown",
   "metadata": {},
   "source": [
    "## Import module"
   ]
  },
  {
   "cell_type": "code",
   "execution_count": 2,
   "metadata": {
    "scrolled": false
   },
   "outputs": [
    {
     "name": "stdout",
     "output_type": "stream",
     "text": [
      "2020-10-01 12:17:27,222 - INFO    | Starting BAC0 version 20.02.20 (Lite)\n",
      "2020-10-01 12:17:27,223 - INFO    | Use BAC0.log_level to adjust verbosity of the app.\n",
      "2020-10-01 12:17:27,224 - INFO    | Ex. BAC0.log_level('silence') or BAC0.log_level('error')\n",
      "2020-10-01 12:17:27,226 - INFO    | Using ip : 192.168.56.201\n"
     ]
    },
    {
     "ename": "InitializationError",
     "evalue": "IP Address provided (192.168.56.201) already used by BAC0. Check if another software is using port 47808 on this network interface. If so, you can define multiple IP per interface. Or specify another IP using BAC0.lite(ip='IP/mask')",
     "output_type": "error",
     "traceback": [
      "\u001b[1;31m---------------------------------------------------------------------------\u001b[0m",
      "\u001b[1;31mInitializationError\u001b[0m                       Traceback (most recent call last)",
      "\u001b[1;32m<ipython-input-2-67ded884dd01>\u001b[0m in \u001b[0;36m<module>\u001b[1;34m\u001b[0m\n\u001b[0;32m      3\u001b[0m \u001b[0mget_ipython\u001b[0m\u001b[1;33m(\u001b[0m\u001b[1;33m)\u001b[0m\u001b[1;33m.\u001b[0m\u001b[0mrun_line_magic\u001b[0m\u001b[1;33m(\u001b[0m\u001b[1;34m'matplotlib'\u001b[0m\u001b[1;33m,\u001b[0m \u001b[1;34m'inline'\u001b[0m\u001b[1;33m)\u001b[0m\u001b[1;33m\u001b[0m\u001b[1;33m\u001b[0m\u001b[0m\n\u001b[0;32m      4\u001b[0m \u001b[1;31m# Define network and connect to it\u001b[0m\u001b[1;33m\u001b[0m\u001b[1;33m\u001b[0m\u001b[1;33m\u001b[0m\u001b[0m\n\u001b[1;32m----> 5\u001b[1;33m \u001b[0mbacnet\u001b[0m \u001b[1;33m=\u001b[0m \u001b[0mBAC0\u001b[0m\u001b[1;33m.\u001b[0m\u001b[0mconnect\u001b[0m\u001b[1;33m(\u001b[0m\u001b[0mip\u001b[0m\u001b[1;33m=\u001b[0m\u001b[1;34m'192.168.56.201/24'\u001b[0m\u001b[1;33m,\u001b[0m\u001b[0mmask\u001b[0m\u001b[1;33m=\u001b[0m\u001b[1;34m'255.255.255.0'\u001b[0m\u001b[1;33m)\u001b[0m\u001b[1;33m\u001b[0m\u001b[1;33m\u001b[0m\u001b[0m\n\u001b[0m\u001b[0;32m      6\u001b[0m \u001b[1;31m#bacnet_2 = BAC0.connect(ip='192.168.56.203/24',mask='255.255.255.0', port=47810)\u001b[0m\u001b[1;33m\u001b[0m\u001b[1;33m\u001b[0m\u001b[1;33m\u001b[0m\u001b[0m\n",
      "\u001b[1;32md:\\_repos\\bms_repo\\bac0\\venv\\lib\\site-packages\\BAC0\\scripts\\Lite.py\u001b[0m in \u001b[0;36m__init__\u001b[1;34m(self, ip, port, mask, bbmdAddress, bbmdTTL, ping, **params)\u001b[0m\n\u001b[0;32m    127\u001b[0m             \u001b[0mbbmdAddress\u001b[0m\u001b[1;33m=\u001b[0m\u001b[0mbbmdAddress\u001b[0m\u001b[1;33m,\u001b[0m\u001b[1;33m\u001b[0m\u001b[1;33m\u001b[0m\u001b[0m\n\u001b[0;32m    128\u001b[0m             \u001b[0mbbmdTTL\u001b[0m\u001b[1;33m=\u001b[0m\u001b[0mbbmdTTL\u001b[0m\u001b[1;33m,\u001b[0m\u001b[1;33m\u001b[0m\u001b[1;33m\u001b[0m\u001b[0m\n\u001b[1;32m--> 129\u001b[1;33m             \u001b[1;33m**\u001b[0m\u001b[0mparams\u001b[0m\u001b[1;33m\u001b[0m\u001b[1;33m\u001b[0m\u001b[0m\n\u001b[0m\u001b[0;32m    130\u001b[0m         )\n\u001b[0;32m    131\u001b[0m \u001b[1;33m\u001b[0m\u001b[0m\n",
      "\u001b[1;32md:\\_repos\\bms_repo\\bac0\\venv\\lib\\site-packages\\BAC0\\scripts\\Base.py\u001b[0m in \u001b[0;36m__init__\u001b[1;34m(self, localIPAddr, localObjName, deviceId, firmwareRevision, maxAPDULengthAccepted, maxSegmentsAccepted, segmentationSupported, bbmdAddress, bbmdTTL, modelName, vendorId, vendorName)\u001b[0m\n\u001b[0;32m    106\u001b[0m             raise InitializationError(\n\u001b[0;32m    107\u001b[0m                 \"IP Address provided ({}) already used by BAC0. Check if another software is using port 47808 on this network interface. If so, you can define multiple IP per interface. Or specify another IP using BAC0.lite(ip='IP/mask')\".format(\n\u001b[1;32m--> 108\u001b[1;33m                     \u001b[0mlocalIPAddr\u001b[0m\u001b[1;33m\u001b[0m\u001b[1;33m\u001b[0m\u001b[0m\n\u001b[0m\u001b[0;32m    109\u001b[0m                 )\n\u001b[0;32m    110\u001b[0m             )\n",
      "\u001b[1;31mInitializationError\u001b[0m: IP Address provided (192.168.56.201) already used by BAC0. Check if another software is using port 47808 on this network interface. If so, you can define multiple IP per interface. Or specify another IP using BAC0.lite(ip='IP/mask')"
     ]
    }
   ],
   "source": [
    "import BAC0\n",
    "import pandas as pd\n",
    "%matplotlib inline\n",
    "# Define network and connect to it\n",
    "bacnet = BAC0.connect(ip='192.168.56.201/24',mask='255.255.255.0')\n",
    "#bacnet_2 = BAC0.connect(ip='192.168.56.203/24',mask='255.255.255.0', port=47810)"
   ]
  },
  {
   "cell_type": "code",
   "execution_count": 143,
   "metadata": {},
   "outputs": [
    {
     "data": {
      "text/plain": [
       "'20.02.20'"
      ]
     },
     "execution_count": 143,
     "metadata": {},
     "output_type": "execute_result"
    }
   ],
   "source": [
    "BAC0.version"
   ]
  },
  {
   "cell_type": "markdown",
   "metadata": {},
   "source": [
    "### Finding devices on a network"
   ]
  },
  {
   "cell_type": "code",
   "execution_count": 3,
   "metadata": {},
   "outputs": [
    {
     "data": {
      "text/plain": [
       "[('192.168.56.202', 599),\n",
       " ('0xc0a83801dd8f', 262236),\n",
       " ('0xc0a83801cfb6', 262237)]"
      ]
     },
     "execution_count": 3,
     "metadata": {},
     "output_type": "execute_result"
    }
   ],
   "source": [
    "bacnet.whois() # Note that this function is called automatically in ReadWriteScript\n",
    "\n",
    "# The result takes a few milliseconds to be processed... it can be used in the same cell."
   ]
  },
  {
   "cell_type": "code",
   "execution_count": 172,
   "metadata": {},
   "outputs": [
    {
     "data": {
      "text/plain": [
       "[('192.168.56.1:47810', 112233)]"
      ]
     },
     "execution_count": 172,
     "metadata": {},
     "output_type": "execute_result"
    }
   ],
   "source": [
    "bacnet_2.whois()"
   ]
  },
  {
   "cell_type": "code",
   "execution_count": 4,
   "metadata": {},
   "outputs": [
    {
     "data": {
      "text/plain": [
       "[]"
      ]
     },
     "execution_count": 4,
     "metadata": {},
     "output_type": "execute_result"
    }
   ],
   "source": [
    "bacnet.whois('0xc0a83801ffc2')"
   ]
  },
  {
   "cell_type": "code",
   "execution_count": 5,
   "metadata": {},
   "outputs": [
    {
     "data": {
      "text/plain": [
       "[('192.168.56.202', 599)]"
      ]
     },
     "execution_count": 5,
     "metadata": {},
     "output_type": "execute_result"
    }
   ],
   "source": [
    "bacnet.whois('192.168.56.202')"
   ]
  },
  {
   "cell_type": "code",
   "execution_count": 147,
   "metadata": {},
   "outputs": [
    {
     "name": "stdout",
     "output_type": "stream",
     "text": [
      "2020-08-24 17:07:07,190 - INFO    | Found those networks : set()\n",
      "2020-08-24 17:07:07,191 - INFO    | Discovering network 1\n",
      "2020-08-24 17:07:10,194 - INFO    | Discovering network 10\n",
      "2020-08-24 17:07:13,200 - INFO    | Discovering network 100\n",
      "2020-08-24 17:07:16,233 - INFO    | Discovering network 1000\n",
      "2020-08-24 17:07:19,239 - INFO    | Discovering network 2000\n",
      "2020-08-24 17:07:22,246 - INFO    | Discovering network 10000\n"
     ]
    },
    {
     "data": {
      "text/plain": [
       "[]"
      ]
     },
     "execution_count": 147,
     "metadata": {},
     "output_type": "execute_result"
    }
   ],
   "source": [
    "bacnet.discover(networks=[1,10,100,1000,2000,10000])  # nie potrzeba znac sieci dla IP; bezposrednie odwolanie po IP"
   ]
  },
  {
   "cell_type": "code",
   "execution_count": 6,
   "metadata": {},
   "outputs": [
    {
     "name": "stdout",
     "output_type": "stream",
     "text": [
      "2020-10-01 12:18:27,428 - WARNING | APDU Abort Reject Reason : unrecognizedService\n",
      "2020-10-01 12:18:27,430 - WARNING | Unrecognized service for 192.168.56.202 | 599\n",
      "2020-10-01 12:18:38,446 - WARNING | APDU Abort Reject Reason : Timeout\n",
      "2020-10-01 12:18:38,447 - WARNING | No response from controller Timeout\n",
      "2020-10-01 12:18:38,447 - WARNING | Unrecognized service for 0xc0a83801dd8f | 262236\n",
      "2020-10-01 12:18:40,453 - WARNING | No response from ('0xc0a83801dd8f', 262236)\n",
      "2020-10-01 12:18:50,456 - WARNING | APDU Abort Reject Reason : Timeout\n",
      "2020-10-01 12:18:50,457 - WARNING | No response from controller Timeout\n",
      "2020-10-01 12:18:50,458 - WARNING | Unrecognized service for 0xc0a83801cfb6 | 262237\n",
      "2020-10-01 12:18:52,462 - WARNING | No response from ('0xc0a83801cfb6', 262237)\n"
     ]
    },
    {
     "data": {
      "text/plain": [
       "[('Betelgeuse', 'testVendor', '192.168.56.202', 599)]"
      ]
     },
     "execution_count": 6,
     "metadata": {},
     "output_type": "execute_result"
    }
   ],
   "source": [
    "bacnet.devices"
   ]
  },
  {
   "cell_type": "code",
   "execution_count": 173,
   "metadata": {},
   "outputs": [
    {
     "name": "stdout",
     "output_type": "stream",
     "text": [
      "2020-08-25 11:08:25,022 - WARNING | APDU Abort Reject Reason : unrecognizedService\n",
      "2020-08-25 11:08:25,024 - WARNING | Unrecognized service for 192.168.56.1:47810 | 112233\n"
     ]
    },
    {
     "data": {
      "text/plain": [
       "[('TD_1', 'Vendor Name', '192.168.56.1:47810', 112233)]"
      ]
     },
     "execution_count": 173,
     "metadata": {},
     "output_type": "execute_result"
    }
   ],
   "source": [
    "bacnet_2.devices"
   ]
  },
  {
   "cell_type": "markdown",
   "metadata": {},
   "source": [
    "### Using the bacnet object to read  or write objects from devices"
   ]
  },
  {
   "cell_type": "markdown",
   "metadata": {},
   "source": [
    "Accessing the list of object of a device can be done using the objectList property\n"
   ]
  },
  {
   "cell_type": "code",
   "execution_count": 174,
   "metadata": {},
   "outputs": [
    {
     "data": {
      "text/plain": [
       "[('device', 3056993)]"
      ]
     },
     "execution_count": 174,
     "metadata": {},
     "output_type": "execute_result"
    }
   ],
   "source": [
    "# Let's print the first 10 objects...\n",
    "bacnet.read('192.168.56.200 device 3056993 objectList')[:10]\n"
   ]
  },
  {
   "cell_type": "code",
   "execution_count": 175,
   "metadata": {},
   "outputs": [
    {
     "ename": "NoResponseFromController",
     "evalue": "APDU Abort Reason : Timeout",
     "output_type": "error",
     "traceback": [
      "\u001b[1;31m---------------------------------------------------------------------------\u001b[0m",
      "\u001b[1;31mNoResponseFromController\u001b[0m                  Traceback (most recent call last)",
      "\u001b[1;32m<ipython-input-175-27abf945fb4a>\u001b[0m in \u001b[0;36m<module>\u001b[1;34m\u001b[0m\n\u001b[1;32m----> 1\u001b[1;33m \u001b[0mbacnet\u001b[0m\u001b[1;33m.\u001b[0m\u001b[0mread\u001b[0m\u001b[1;33m(\u001b[0m\u001b[1;34m'192.168.56.1 device 8 objectList'\u001b[0m\u001b[1;33m)\u001b[0m  \u001b[1;31m# symulator YABE nie pozwala przegladac zmiennych (ale bacpypes pozwala)\u001b[0m\u001b[1;33m\u001b[0m\u001b[1;33m\u001b[0m\u001b[0m\n\u001b[0m",
      "\u001b[1;32md:\\_repos\\bms_repo\\bac0\\venv\\lib\\site-packages\\BAC0\\core\\io\\Read.py\u001b[0m in \u001b[0;36mread\u001b[1;34m(self, args, arr_index, vendor_id, bacoid, timeout, prop_id_required)\u001b[0m\n\u001b[0;32m    197\u001b[0m                     \u001b[1;31m# even if the real reason is another one\u001b[0m\u001b[1;33m\u001b[0m\u001b[1;33m\u001b[0m\u001b[1;33m\u001b[0m\u001b[0m\n\u001b[0;32m    198\u001b[0m                     raise NoResponseFromController(\n\u001b[1;32m--> 199\u001b[1;33m                         \u001b[1;34m\"APDU Abort Reason : {}\"\u001b[0m\u001b[1;33m.\u001b[0m\u001b[0mformat\u001b[0m\u001b[1;33m(\u001b[0m\u001b[0mreason\u001b[0m\u001b[1;33m)\u001b[0m\u001b[1;33m\u001b[0m\u001b[1;33m\u001b[0m\u001b[0m\n\u001b[0m\u001b[0;32m    200\u001b[0m                     )\n\u001b[0;32m    201\u001b[0m \u001b[1;33m\u001b[0m\u001b[0m\n",
      "\u001b[1;31mNoResponseFromController\u001b[0m: APDU Abort Reason : Timeout"
     ]
    }
   ],
   "source": [
    "bacnet.read('192.168.56.1 device 8 objectList')  # symulator YABE nie pozwala przegladac zmiennych (ale bacpypes pozwala)"
   ]
  },
  {
   "cell_type": "code",
   "execution_count": null,
   "metadata": {},
   "outputs": [],
   "source": [
    "bacnet.read('192.168.56.202 device 599 objectList')"
   ]
  },
  {
   "cell_type": "code",
   "execution_count": 204,
   "metadata": {},
   "outputs": [
    {
     "name": "stdout",
     "output_type": "stream",
     "text": [
      "[('device', 112233)]\n"
     ]
    }
   ],
   "source": [
    "obj_list_2 = bacnet.read('192.168.56.1:47810 device 112233 objectList')  # bacpypes samples/handsOnLoab/Samples4_RandomAnalogValueObject.py\n",
    "print(sorted(obj_list_2, reverse=True))"
   ]
  },
  {
   "cell_type": "code",
   "execution_count": 208,
   "metadata": {},
   "outputs": [
    {
     "name": "stdout",
     "output_type": "stream",
     "text": [
      "2020-08-25 11:28:23,006 - INFO    | Changing device state to DeviceDisconnected'>\n"
     ]
    },
    {
     "ename": "InvalidTag",
     "evalue": "enumerated application tag required",
     "output_type": "error",
     "traceback": [
      "\u001b[1;31m---------------------------------------------------------------------------\u001b[0m",
      "\u001b[1;31mInvalidTag\u001b[0m                                Traceback (most recent call last)",
      "\u001b[1;32m<ipython-input-208-b55b59fcc99c>\u001b[0m in \u001b[0;36m<module>\u001b[1;34m\u001b[0m\n\u001b[1;32m----> 1\u001b[1;33m \u001b[0mfx\u001b[0m \u001b[1;33m=\u001b[0m \u001b[0mBAC0\u001b[0m\u001b[1;33m.\u001b[0m\u001b[0mdevice\u001b[0m\u001b[1;33m(\u001b[0m\u001b[1;34m'192.168.56.1:47810'\u001b[0m\u001b[1;33m,\u001b[0m \u001b[1;36m112233\u001b[0m\u001b[1;33m,\u001b[0m \u001b[0mbacnet\u001b[0m\u001b[1;33m,\u001b[0m \u001b[0msegmentation_supported\u001b[0m\u001b[1;33m=\u001b[0m\u001b[1;32mFalse\u001b[0m\u001b[1;33m,\u001b[0m \u001b[0mobject_list\u001b[0m\u001b[1;33m=\u001b[0m\u001b[0mobj_list_2\u001b[0m\u001b[1;33m)\u001b[0m\u001b[1;31m#, object_list=sample_obj_list)\u001b[0m\u001b[1;33m\u001b[0m\u001b[1;33m\u001b[0m\u001b[0m\n\u001b[0m",
      "\u001b[1;32md:\\_repos\\bms_repo\\bac0\\venv\\lib\\site-packages\\BAC0\\core\\devices\\Device.py\u001b[0m in \u001b[0;36m__init__\u001b[1;34m(self, address, device_id, network, poll, from_backup, segmentation_supported, object_list, auto_save, clear_history_on_save, history_size)\u001b[0m\n\u001b[0;32m    189\u001b[0m                 \u001b[1;32mand\u001b[0m \u001b[0mself\u001b[0m\u001b[1;33m.\u001b[0m\u001b[0mproperties\u001b[0m\u001b[1;33m.\u001b[0m\u001b[0mdevice_id\u001b[0m\u001b[1;33m\u001b[0m\u001b[1;33m\u001b[0m\u001b[0m\n\u001b[0;32m    190\u001b[0m             ):\n\u001b[1;32m--> 191\u001b[1;33m                 \u001b[0mself\u001b[0m\u001b[1;33m.\u001b[0m\u001b[0mnew_state\u001b[0m\u001b[1;33m(\u001b[0m\u001b[0mDeviceDisconnected\u001b[0m\u001b[1;33m)\u001b[0m\u001b[1;33m\u001b[0m\u001b[1;33m\u001b[0m\u001b[0m\n\u001b[0m\u001b[0;32m    192\u001b[0m             \u001b[1;32melse\u001b[0m\u001b[1;33m:\u001b[0m\u001b[1;33m\u001b[0m\u001b[1;33m\u001b[0m\u001b[0m\n\u001b[0;32m    193\u001b[0m                 raise BadDeviceDefinition(\n",
      "\u001b[1;32md:\\_repos\\bms_repo\\bac0\\venv\\lib\\site-packages\\BAC0\\core\\devices\\Device.py\u001b[0m in \u001b[0;36mnew_state\u001b[1;34m(self, newstate)\u001b[0m\n\u001b[0;32m    205\u001b[0m         )\n\u001b[0;32m    206\u001b[0m         \u001b[0mself\u001b[0m\u001b[1;33m.\u001b[0m\u001b[0m__class__\u001b[0m \u001b[1;33m=\u001b[0m \u001b[0mnewstate\u001b[0m\u001b[1;33m\u001b[0m\u001b[1;33m\u001b[0m\u001b[0m\n\u001b[1;32m--> 207\u001b[1;33m         \u001b[0mself\u001b[0m\u001b[1;33m.\u001b[0m\u001b[0m_init_state\u001b[0m\u001b[1;33m(\u001b[0m\u001b[1;33m)\u001b[0m\u001b[1;33m\u001b[0m\u001b[1;33m\u001b[0m\u001b[0m\n\u001b[0m\u001b[0;32m    208\u001b[0m \u001b[1;33m\u001b[0m\u001b[0m\n\u001b[0;32m    209\u001b[0m     \u001b[1;32mdef\u001b[0m \u001b[0m_init_state\u001b[0m\u001b[1;33m(\u001b[0m\u001b[0mself\u001b[0m\u001b[1;33m)\u001b[0m\u001b[1;33m:\u001b[0m\u001b[1;33m\u001b[0m\u001b[1;33m\u001b[0m\u001b[0m\n",
      "\u001b[1;32md:\\_repos\\bms_repo\\bac0\\venv\\lib\\site-packages\\BAC0\\core\\devices\\Device.py\u001b[0m in \u001b[0;36m_init_state\u001b[1;34m(self)\u001b[0m\n\u001b[0;32m    783\u001b[0m \u001b[1;33m\u001b[0m\u001b[0m\n\u001b[0;32m    784\u001b[0m     \u001b[1;32mdef\u001b[0m \u001b[0m_init_state\u001b[0m\u001b[1;33m(\u001b[0m\u001b[0mself\u001b[0m\u001b[1;33m)\u001b[0m\u001b[1;33m:\u001b[0m\u001b[1;33m\u001b[0m\u001b[1;33m\u001b[0m\u001b[0m\n\u001b[1;32m--> 785\u001b[1;33m         \u001b[0mself\u001b[0m\u001b[1;33m.\u001b[0m\u001b[0mconnect\u001b[0m\u001b[1;33m(\u001b[0m\u001b[1;33m)\u001b[0m\u001b[1;33m\u001b[0m\u001b[1;33m\u001b[0m\u001b[0m\n\u001b[0m\u001b[0;32m    786\u001b[0m \u001b[1;33m\u001b[0m\u001b[0m\n\u001b[0;32m    787\u001b[0m     \u001b[1;32mdef\u001b[0m \u001b[0mconnect\u001b[0m\u001b[1;33m(\u001b[0m\u001b[0mself\u001b[0m\u001b[1;33m,\u001b[0m \u001b[1;33m*\u001b[0m\u001b[1;33m,\u001b[0m \u001b[0mdb\u001b[0m\u001b[1;33m=\u001b[0m\u001b[1;32mNone\u001b[0m\u001b[1;33m)\u001b[0m\u001b[1;33m:\u001b[0m\u001b[1;33m\u001b[0m\u001b[1;33m\u001b[0m\u001b[0m\n",
      "\u001b[1;32md:\\_repos\\bms_repo\\bac0\\venv\\lib\\site-packages\\BAC0\\core\\devices\\Device.py\u001b[0m in \u001b[0;36mconnect\u001b[1;34m(self, db)\u001b[0m\n\u001b[0;32m    803\u001b[0m                 segmentation = self.properties.network.read(\n\u001b[0;32m    804\u001b[0m                     \"{} device {} segmentationSupported\".format(\n\u001b[1;32m--> 805\u001b[1;33m                         \u001b[0mself\u001b[0m\u001b[1;33m.\u001b[0m\u001b[0mproperties\u001b[0m\u001b[1;33m.\u001b[0m\u001b[0maddress\u001b[0m\u001b[1;33m,\u001b[0m \u001b[0mself\u001b[0m\u001b[1;33m.\u001b[0m\u001b[0mproperties\u001b[0m\u001b[1;33m.\u001b[0m\u001b[0mdevice_id\u001b[0m\u001b[1;33m\u001b[0m\u001b[1;33m\u001b[0m\u001b[0m\n\u001b[0m\u001b[0;32m    806\u001b[0m                     )\n\u001b[0;32m    807\u001b[0m                 )\n",
      "\u001b[1;32md:\\_repos\\bms_repo\\bac0\\venv\\lib\\site-packages\\BAC0\\core\\io\\Read.py\u001b[0m in \u001b[0;36mread\u001b[1;34m(self, args, arr_index, vendor_id, bacoid, timeout, prop_id_required)\u001b[0m\n\u001b[0;32m    159\u001b[0m                         \u001b[0mvalue\u001b[0m \u001b[1;33m=\u001b[0m \u001b[0mapdu\u001b[0m\u001b[1;33m.\u001b[0m\u001b[0mpropertyValue\u001b[0m\u001b[1;33m.\u001b[0m\u001b[0mcast_out\u001b[0m\u001b[1;33m(\u001b[0m\u001b[0mdatatype\u001b[0m\u001b[1;33m.\u001b[0m\u001b[0msubtype\u001b[0m\u001b[1;33m)\u001b[0m\u001b[1;33m\u001b[0m\u001b[1;33m\u001b[0m\u001b[0m\n\u001b[0;32m    160\u001b[0m                 \u001b[1;32melse\u001b[0m\u001b[1;33m:\u001b[0m\u001b[1;33m\u001b[0m\u001b[1;33m\u001b[0m\u001b[0m\n\u001b[1;32m--> 161\u001b[1;33m                     \u001b[0mvalue\u001b[0m \u001b[1;33m=\u001b[0m \u001b[0mapdu\u001b[0m\u001b[1;33m.\u001b[0m\u001b[0mpropertyValue\u001b[0m\u001b[1;33m.\u001b[0m\u001b[0mcast_out\u001b[0m\u001b[1;33m(\u001b[0m\u001b[0mdatatype\u001b[0m\u001b[1;33m)\u001b[0m\u001b[1;33m\u001b[0m\u001b[1;33m\u001b[0m\u001b[0m\n\u001b[0m\u001b[0;32m    162\u001b[0m \u001b[1;33m\u001b[0m\u001b[0m\n\u001b[0;32m    163\u001b[0m                 \u001b[0mself\u001b[0m\u001b[1;33m.\u001b[0m\u001b[0m_log\u001b[0m\u001b[1;33m.\u001b[0m\u001b[0mdebug\u001b[0m\u001b[1;33m(\u001b[0m\u001b[1;34m\"{:<20} {:<20}\"\u001b[0m\u001b[1;33m.\u001b[0m\u001b[0mformat\u001b[0m\u001b[1;33m(\u001b[0m\u001b[1;34m\"value\"\u001b[0m\u001b[1;33m,\u001b[0m \u001b[1;34m\"datatype\"\u001b[0m\u001b[1;33m)\u001b[0m\u001b[1;33m)\u001b[0m\u001b[1;33m\u001b[0m\u001b[1;33m\u001b[0m\u001b[0m\n",
      "\u001b[1;32md:\\_repos\\bms_repo\\bac0\\venv\\lib\\site-packages\\bacpypes\\constructeddata.py\u001b[0m in \u001b[0;36mcast_out\u001b[1;34m(self, klass)\u001b[0m\n\u001b[0;32m   1344\u001b[0m \u001b[1;33m\u001b[0m\u001b[0m\n\u001b[0;32m   1345\u001b[0m             \u001b[1;31m# a helper cooperates between the atomic value and the tag\u001b[0m\u001b[1;33m\u001b[0m\u001b[1;33m\u001b[0m\u001b[1;33m\u001b[0m\u001b[0m\n\u001b[1;32m-> 1346\u001b[1;33m             \u001b[0mhelper\u001b[0m \u001b[1;33m=\u001b[0m \u001b[0mklass\u001b[0m\u001b[1;33m(\u001b[0m\u001b[0mself\u001b[0m\u001b[1;33m.\u001b[0m\u001b[0mtagList\u001b[0m\u001b[1;33m[\u001b[0m\u001b[1;36m0\u001b[0m\u001b[1;33m]\u001b[0m\u001b[1;33m)\u001b[0m\u001b[1;33m\u001b[0m\u001b[1;33m\u001b[0m\u001b[0m\n\u001b[0m\u001b[0;32m   1347\u001b[0m \u001b[1;33m\u001b[0m\u001b[0m\n\u001b[0;32m   1348\u001b[0m             \u001b[1;31m# return the value\u001b[0m\u001b[1;33m\u001b[0m\u001b[1;33m\u001b[0m\u001b[1;33m\u001b[0m\u001b[0m\n",
      "\u001b[1;32md:\\_repos\\bms_repo\\bac0\\venv\\lib\\site-packages\\bacpypes\\primitivedata.py\u001b[0m in \u001b[0;36m__init__\u001b[1;34m(self, arg)\u001b[0m\n\u001b[0;32m   1126\u001b[0m             \u001b[1;32mpass\u001b[0m\u001b[1;33m\u001b[0m\u001b[1;33m\u001b[0m\u001b[0m\n\u001b[0;32m   1127\u001b[0m         \u001b[1;32melif\u001b[0m \u001b[0misinstance\u001b[0m\u001b[1;33m(\u001b[0m\u001b[0marg\u001b[0m\u001b[1;33m,\u001b[0m \u001b[0mTag\u001b[0m\u001b[1;33m)\u001b[0m\u001b[1;33m:\u001b[0m\u001b[1;33m\u001b[0m\u001b[1;33m\u001b[0m\u001b[0m\n\u001b[1;32m-> 1128\u001b[1;33m             \u001b[0mself\u001b[0m\u001b[1;33m.\u001b[0m\u001b[0mdecode\u001b[0m\u001b[1;33m(\u001b[0m\u001b[0marg\u001b[0m\u001b[1;33m)\u001b[0m\u001b[1;33m\u001b[0m\u001b[1;33m\u001b[0m\u001b[0m\n\u001b[0m\u001b[0;32m   1129\u001b[0m         \u001b[1;32melif\u001b[0m \u001b[0misinstance\u001b[0m\u001b[1;33m(\u001b[0m\u001b[0marg\u001b[0m\u001b[1;33m,\u001b[0m \u001b[0mint\u001b[0m\u001b[1;33m)\u001b[0m\u001b[1;33m:\u001b[0m\u001b[1;33m\u001b[0m\u001b[1;33m\u001b[0m\u001b[0m\n\u001b[0;32m   1130\u001b[0m             \u001b[1;32mif\u001b[0m \u001b[1;33m(\u001b[0m\u001b[0marg\u001b[0m \u001b[1;33m<\u001b[0m \u001b[1;36m0\u001b[0m\u001b[1;33m)\u001b[0m\u001b[1;33m:\u001b[0m\u001b[1;33m\u001b[0m\u001b[1;33m\u001b[0m\u001b[0m\n",
      "\u001b[1;32md:\\_repos\\bms_repo\\bac0\\venv\\lib\\site-packages\\bacpypes\\primitivedata.py\u001b[0m in \u001b[0;36mdecode\u001b[1;34m(self, tag)\u001b[0m\n\u001b[0;32m   1207\u001b[0m     \u001b[1;32mdef\u001b[0m \u001b[0mdecode\u001b[0m\u001b[1;33m(\u001b[0m\u001b[0mself\u001b[0m\u001b[1;33m,\u001b[0m \u001b[0mtag\u001b[0m\u001b[1;33m)\u001b[0m\u001b[1;33m:\u001b[0m\u001b[1;33m\u001b[0m\u001b[1;33m\u001b[0m\u001b[0m\n\u001b[0;32m   1208\u001b[0m         \u001b[1;32mif\u001b[0m \u001b[1;33m(\u001b[0m\u001b[0mtag\u001b[0m\u001b[1;33m.\u001b[0m\u001b[0mtagClass\u001b[0m \u001b[1;33m!=\u001b[0m \u001b[0mTag\u001b[0m\u001b[1;33m.\u001b[0m\u001b[0mapplicationTagClass\u001b[0m\u001b[1;33m)\u001b[0m \u001b[1;32mor\u001b[0m \u001b[1;33m(\u001b[0m\u001b[0mtag\u001b[0m\u001b[1;33m.\u001b[0m\u001b[0mtagNumber\u001b[0m \u001b[1;33m!=\u001b[0m \u001b[0mTag\u001b[0m\u001b[1;33m.\u001b[0m\u001b[0menumeratedAppTag\u001b[0m\u001b[1;33m)\u001b[0m\u001b[1;33m:\u001b[0m\u001b[1;33m\u001b[0m\u001b[1;33m\u001b[0m\u001b[0m\n\u001b[1;32m-> 1209\u001b[1;33m             \u001b[1;32mraise\u001b[0m \u001b[0mInvalidTag\u001b[0m\u001b[1;33m(\u001b[0m\u001b[1;34m\"enumerated application tag required\"\u001b[0m\u001b[1;33m)\u001b[0m\u001b[1;33m\u001b[0m\u001b[1;33m\u001b[0m\u001b[0m\n\u001b[0m\u001b[0;32m   1210\u001b[0m         \u001b[1;32mif\u001b[0m \u001b[0mlen\u001b[0m\u001b[1;33m(\u001b[0m\u001b[0mtag\u001b[0m\u001b[1;33m.\u001b[0m\u001b[0mtagData\u001b[0m\u001b[1;33m)\u001b[0m \u001b[1;33m==\u001b[0m \u001b[1;36m0\u001b[0m\u001b[1;33m:\u001b[0m\u001b[1;33m\u001b[0m\u001b[1;33m\u001b[0m\u001b[0m\n\u001b[0;32m   1211\u001b[0m             \u001b[1;32mraise\u001b[0m \u001b[0mInvalidTag\u001b[0m\u001b[1;33m(\u001b[0m\u001b[1;34m\"invalid tag length\"\u001b[0m\u001b[1;33m)\u001b[0m\u001b[1;33m\u001b[0m\u001b[1;33m\u001b[0m\u001b[0m\n",
      "\u001b[1;31mInvalidTag\u001b[0m: enumerated application tag required"
     ]
    }
   ],
   "source": [
    "fx = BAC0.device('192.168.56.1:47810', 112233, bacnet, segmentation_supported=False, object_list=obj_list_2)#, object_list=sample_obj_list)"
   ]
  },
  {
   "cell_type": "code",
   "execution_count": null,
   "metadata": {},
   "outputs": [],
   "source": [
    "bacnet.read('192.168.56.202 device 599 objectList') "
   ]
  },
  {
   "cell_type": "code",
   "execution_count": 7,
   "metadata": {},
   "outputs": [
    {
     "name": "stdout",
     "output_type": "stream",
     "text": [
      "2020-10-01 12:19:03,268 - INFO    | Changing device state to DeviceDisconnected'>\n",
      "2020-10-01 12:19:03,472 - INFO    | Changing device state to RPDeviceConnected'>\n",
      "2020-10-01 12:19:03,492 - INFO    | Device 599:[Betelgeuse] found... building points list\n",
      "2020-10-01 12:19:03,743 - INFO    | Ready!\n"
     ]
    }
   ],
   "source": [
    "sample_obj_list = [('device', 599),\n",
    " ('analogValue', 1),\n",
    " ('analogValue', 2),\n",
    " ('analogValue', 3),\n",
    " ('analogValue', 4),\n",
    " ('analogValue', 5),\n",
    " ('analogValue', 6),\n",
    " ('analogValue', 7),\n",
    " ('analogValue', 8),\n",
    " ('analogValue', 9),\n",
    " ('analogValue', 10)]\n",
    "\n",
    "''' Sample4_RandomAnalogValueObject.py\n",
    "def main():\n",
    "    # parse the command line arguments\n",
    "    args = ConfigArgumentParser(description=__doc__).parse_args()\n",
    "\n",
    "    if _debug: _log.debug(\"initialization\")\n",
    "    if _debug: _log.debug(\"    - args: %r\", args)\n",
    "\n",
    "    # make a device object\n",
    "    this_device = LocalDeviceObject(\n",
    "        objectName=args.ini.objectname,\n",
    "        objectIdentifier=('device', int(args.ini.objectidentifier)),\n",
    "        maxApduLengthAccepted=int(args.ini.maxapdulengthaccepted),\n",
    "        segmentationSupported=args.ini.segmentationsupported,\n",
    "        vendorIdentifier=int(args.ini.vendoridentifier),\n",
    "        vendorName=\"testVendor\"                                              # <- brakowalo w samplu\n",
    "        )\n",
    "\n",
    "    # make a sample application\n",
    "    this_application = BIPSimpleApplication(this_device, args.ini.address)\n",
    "\n",
    "    # make some random input objects\n",
    "    for i in range(1, RANDOM_OBJECT_COUNT+1):\n",
    "        ravo = RandomAnalogValueObject(\n",
    "            objectIdentifier=('analogValue', i),\n",
    "            objectName='Random-%d' % (i,),\n",
    "            units=64                                                       # <- brakowalo w samplu, z YABE wynika ze 64 to Farenheit\n",
    "            )\n",
    "        _log.debug(\"    - ravo: %r\", ravo)\n",
    "        this_application.add_object(ravo)\n",
    "'''\n",
    "\n",
    "fx = BAC0.device('192.168.56.202', 599, bacnet, segmentation_supported=False, object_list=sample_obj_list, poll=0)#, object_list=sample_obj_list)"
   ]
  },
  {
   "cell_type": "code",
   "execution_count": 9,
   "metadata": {},
   "outputs": [
    {
     "data": {
      "text/plain": [
       "[Betelgeuse/Random-1 : 16.34 degreesFahrenheit,\n",
       " Betelgeuse/Random-2 : 91.16 degreesFahrenheit,\n",
       " Betelgeuse/Random-3 : 69.76 degreesFahrenheit,\n",
       " Betelgeuse/Random-4 : 61.70 degreesFahrenheit,\n",
       " Betelgeuse/Random-5 : 9.30 degreesFahrenheit,\n",
       " Betelgeuse/Random-6 : 0.76 degreesFahrenheit,\n",
       " Betelgeuse/Random-7 : 29.98 degreesFahrenheit,\n",
       " Betelgeuse/Random-8 : 55.46 degreesFahrenheit,\n",
       " Betelgeuse/Random-9 : 95.59 degreesFahrenheit,\n",
       " Betelgeuse/Random-10 : 93.03 degreesFahrenheit]"
      ]
     },
     "execution_count": 9,
     "metadata": {},
     "output_type": "execute_result"
    }
   ],
   "source": [
    "fx.points  # zainicjowany wyzej symulacyjny kontroler z bacpypes sample 4"
   ]
  },
  {
   "cell_type": "code",
   "execution_count": 10,
   "metadata": {},
   "outputs": [
    {
     "data": {
      "text/plain": [
       "Betelgeuse/Random-1 : 78.01 degreesFahrenheit"
      ]
     },
     "execution_count": 10,
     "metadata": {},
     "output_type": "execute_result"
    }
   ],
   "source": [
    "fx['Random-1']"
   ]
  },
  {
   "cell_type": "code",
   "execution_count": 164,
   "metadata": {},
   "outputs": [
    {
     "ename": "ValueError",
     "evalue": "provide at least one property",
     "output_type": "error",
     "traceback": [
      "\u001b[1;31m---------------------------------------------------------------------------\u001b[0m",
      "\u001b[1;31mValueError\u001b[0m                                Traceback (most recent call last)",
      "\u001b[1;32m<ipython-input-164-69ce8f4258d4>\u001b[0m in \u001b[0;36m<module>\u001b[1;34m\u001b[0m\n\u001b[1;32m----> 1\u001b[1;33m \u001b[0mbacnet\u001b[0m\u001b[1;33m.\u001b[0m\u001b[0mreadMultiple\u001b[0m\u001b[1;33m(\u001b[0m\u001b[1;34m'192.168.56.202 device 599 Random-2'\u001b[0m\u001b[1;33m)\u001b[0m\u001b[1;33m\u001b[0m\u001b[1;33m\u001b[0m\u001b[0m\n\u001b[0m",
      "\u001b[1;32md:\\_repos\\bms_repo\\bac0\\venv\\lib\\site-packages\\BAC0\\core\\io\\Read.py\u001b[0m in \u001b[0;36mreadMultiple\u001b[1;34m(self, args, vendor_id, timeout, prop_id_required)\u001b[0m\n\u001b[0;32m    244\u001b[0m         \u001b[1;32mtry\u001b[0m\u001b[1;33m:\u001b[0m\u001b[1;33m\u001b[0m\u001b[1;33m\u001b[0m\u001b[0m\n\u001b[0;32m    245\u001b[0m             \u001b[1;31m# build an ReadPropertyMultiple request\u001b[0m\u001b[1;33m\u001b[0m\u001b[1;33m\u001b[0m\u001b[1;33m\u001b[0m\u001b[0m\n\u001b[1;32m--> 246\u001b[1;33m             \u001b[0miocb\u001b[0m \u001b[1;33m=\u001b[0m \u001b[0mIOCB\u001b[0m\u001b[1;33m(\u001b[0m\u001b[0mself\u001b[0m\u001b[1;33m.\u001b[0m\u001b[0mbuild_rpm_request\u001b[0m\u001b[1;33m(\u001b[0m\u001b[0margs\u001b[0m\u001b[1;33m,\u001b[0m \u001b[0mvendor_id\u001b[0m\u001b[1;33m=\u001b[0m\u001b[0mvendor_id\u001b[0m\u001b[1;33m)\u001b[0m\u001b[1;33m)\u001b[0m\u001b[1;33m\u001b[0m\u001b[1;33m\u001b[0m\u001b[0m\n\u001b[0m\u001b[0;32m    247\u001b[0m             \u001b[0miocb\u001b[0m\u001b[1;33m.\u001b[0m\u001b[0mset_timeout\u001b[0m\u001b[1;33m(\u001b[0m\u001b[0mtimeout\u001b[0m\u001b[1;33m)\u001b[0m\u001b[1;33m\u001b[0m\u001b[1;33m\u001b[0m\u001b[0m\n\u001b[0;32m    248\u001b[0m             \u001b[1;31m# pass to the BACnet stack\u001b[0m\u001b[1;33m\u001b[0m\u001b[1;33m\u001b[0m\u001b[1;33m\u001b[0m\u001b[0m\n",
      "\u001b[1;32md:\\_repos\\bms_repo\\bac0\\venv\\lib\\site-packages\\BAC0\\core\\io\\Read.py\u001b[0m in \u001b[0;36mbuild_rpm_request\u001b[1;34m(self, args, vendor_id)\u001b[0m\n\u001b[0;32m    477\u001b[0m \u001b[1;33m\u001b[0m\u001b[0m\n\u001b[0;32m    478\u001b[0m             \u001b[1;32mif\u001b[0m \u001b[1;32mnot\u001b[0m \u001b[0mprop_reference_list\u001b[0m\u001b[1;33m:\u001b[0m\u001b[1;33m\u001b[0m\u001b[1;33m\u001b[0m\u001b[0m\n\u001b[1;32m--> 479\u001b[1;33m                 \u001b[1;32mraise\u001b[0m \u001b[0mValueError\u001b[0m\u001b[1;33m(\u001b[0m\u001b[1;34m\"provide at least one property\"\u001b[0m\u001b[1;33m)\u001b[0m\u001b[1;33m\u001b[0m\u001b[1;33m\u001b[0m\u001b[0m\n\u001b[0m\u001b[0;32m    480\u001b[0m \u001b[1;33m\u001b[0m\u001b[0m\n\u001b[0;32m    481\u001b[0m             \u001b[1;31m# build a read access specification\u001b[0m\u001b[1;33m\u001b[0m\u001b[1;33m\u001b[0m\u001b[1;33m\u001b[0m\u001b[0m\n",
      "\u001b[1;31mValueError\u001b[0m: provide at least one property"
     ]
    }
   ],
   "source": [
    "bacnet.readMultiple('192.168.56.202 device 599 Random-2')"
   ]
  },
  {
   "cell_type": "code",
   "execution_count": 75,
   "metadata": {},
   "outputs": [
    {
     "name": "stdout",
     "output_type": "stream",
     "text": [
      "2020-08-24 16:33:32,245 - WARNING | APDU Abort Reject Reason : unrecognizedService\n"
     ]
    },
    {
     "ename": "UnrecognizedService",
     "evalue": "",
     "output_type": "error",
     "traceback": [
      "\u001b[1;31m---------------------------------------------------------------------------\u001b[0m",
      "\u001b[1;31mUnrecognizedService\u001b[0m                       Traceback (most recent call last)",
      "\u001b[1;32m<ipython-input-75-07d4b4d292eb>\u001b[0m in \u001b[0;36m<module>\u001b[1;34m\u001b[0m\n\u001b[1;32m----> 1\u001b[1;33m \u001b[0mbacnet\u001b[0m\u001b[1;33m.\u001b[0m\u001b[0mreadMultiple\u001b[0m\u001b[1;33m(\u001b[0m\u001b[1;34m'192.168.56.202 analogValue 1 objectName description'\u001b[0m\u001b[1;33m)\u001b[0m\u001b[1;33m\u001b[0m\u001b[1;33m\u001b[0m\u001b[0m\n\u001b[0m",
      "\u001b[1;32md:\\_repos\\bms_repo\\bac0\\venv\\lib\\site-packages\\BAC0\\core\\io\\Read.py\u001b[0m in \u001b[0;36mreadMultiple\u001b[1;34m(self, args, vendor_id, timeout, prop_id_required)\u001b[0m\n\u001b[0;32m    349\u001b[0m             \u001b[0mself\u001b[0m\u001b[1;33m.\u001b[0m\u001b[0m_log\u001b[0m\u001b[1;33m.\u001b[0m\u001b[0mdebug\u001b[0m\u001b[1;33m(\u001b[0m\u001b[1;34m\"The Request was : {}\"\u001b[0m\u001b[1;33m.\u001b[0m\u001b[0mformat\u001b[0m\u001b[1;33m(\u001b[0m\u001b[0margs\u001b[0m\u001b[1;33m)\u001b[0m\u001b[1;33m)\u001b[0m\u001b[1;33m\u001b[0m\u001b[1;33m\u001b[0m\u001b[0m\n\u001b[0;32m    350\u001b[0m             \u001b[1;32mif\u001b[0m \u001b[0mreason\u001b[0m \u001b[1;33m==\u001b[0m \u001b[1;34m\"unrecognizedService\"\u001b[0m\u001b[1;33m:\u001b[0m\u001b[1;33m\u001b[0m\u001b[1;33m\u001b[0m\u001b[0m\n\u001b[1;32m--> 351\u001b[1;33m                 \u001b[1;32mraise\u001b[0m \u001b[0mUnrecognizedService\u001b[0m\u001b[1;33m(\u001b[0m\u001b[1;33m)\u001b[0m\u001b[1;33m\u001b[0m\u001b[1;33m\u001b[0m\u001b[0m\n\u001b[0m\u001b[0;32m    352\u001b[0m             \u001b[1;32melif\u001b[0m \u001b[0mreason\u001b[0m \u001b[1;33m==\u001b[0m \u001b[1;34m\"segmentationNotSupported\"\u001b[0m\u001b[1;33m:\u001b[0m\u001b[1;33m\u001b[0m\u001b[1;33m\u001b[0m\u001b[0m\n\u001b[0;32m    353\u001b[0m                 \u001b[1;31m# value = self._split_the_read_request(args, arr_index)\u001b[0m\u001b[1;33m\u001b[0m\u001b[1;33m\u001b[0m\u001b[1;33m\u001b[0m\u001b[0m\n",
      "\u001b[1;31mUnrecognizedService\u001b[0m: "
     ]
    }
   ],
   "source": [
    "bacnet.readMultiple('192.168.56.202 analogValue 1 objectName description')"
   ]
  },
  {
   "cell_type": "code",
   "execution_count": null,
   "metadata": {},
   "outputs": [],
   "source": [
    "import time\n",
    "obj = '2:5 analogValue 41 presentValue'\n",
    "old_value = bacnet.read(obj)\n",
    "print('Old Value is : %s' % old_value)\n",
    "new_value = 120\n",
    "\n",
    "bacnet.write('%s %s' % (obj,new_value))\n",
    "print('New value is %s' % bacnet.read(obj))"
   ]
  },
  {
   "cell_type": "markdown",
   "metadata": {},
   "source": [
    "## Stopping the app"
   ]
  },
  {
   "cell_type": "code",
   "execution_count": 169,
   "metadata": {},
   "outputs": [
    {
     "name": "stdout",
     "output_type": "stream",
     "text": [
      "2020-08-25 11:07:32,653 - INFO    | Wait while stopping polling\n",
      "2020-08-25 11:07:32,654 - INFO    | Polling stopped\n",
      "2020-08-25 11:07:32,742 - INFO    | Device saved to Betelgeuse.db\n",
      "2020-08-25 11:07:32,742 - INFO    | Changing device state to DeviceFromDB'>\n",
      "2020-08-25 11:07:32,743 - INFO    | Initializing DB\n",
      "2020-08-25 11:07:32,765 - INFO    | Device restored from db\n",
      "2020-08-25 11:07:32,766 - INFO    | You can reconnect to network using : \"device.connect(network=bacnet)\"\n",
      "2020-08-25 11:07:32,766 - INFO    | Wait while stopping polling\n",
      "2020-08-25 11:07:32,767 - INFO    | Polling stopped\n",
      "2020-08-25 11:07:32,816 - INFO    | Device saved to Betelgeuse.db\n",
      "2020-08-25 11:07:32,817 - INFO    | Changing device state to DeviceFromDB'>\n",
      "2020-08-25 11:07:32,818 - INFO    | Initializing DB\n",
      "2020-08-25 11:07:32,832 - INFO    | Device restored from db\n",
      "2020-08-25 11:07:32,833 - INFO    | You can reconnect to network using : \"device.connect(network=bacnet)\"\n",
      "2020-08-25 11:07:32,834 - INFO    | Wait while stopping polling\n",
      "2020-08-25 11:07:32,835 - INFO    | Polling stopped\n",
      "2020-08-25 11:07:32,882 - INFO    | Device saved to Betelgeuse.db\n",
      "2020-08-25 11:07:32,883 - INFO    | Changing device state to DeviceFromDB'>\n",
      "2020-08-25 11:07:32,883 - INFO    | Initializing DB\n",
      "2020-08-25 11:07:32,898 - INFO    | Device restored from db\n",
      "2020-08-25 11:07:32,899 - INFO    | You can reconnect to network using : \"device.connect(network=bacnet)\"\n",
      "2020-08-25 11:07:32,900 - INFO    | Wait while stopping polling\n",
      "2020-08-25 11:07:32,901 - INFO    | Polling stopped\n",
      "2020-08-25 11:07:32,946 - INFO    | Device saved to Betelgeuse.db\n",
      "2020-08-25 11:07:32,946 - INFO    | Changing device state to DeviceFromDB'>\n",
      "2020-08-25 11:07:32,947 - INFO    | Initializing DB\n",
      "2020-08-25 11:07:32,961 - INFO    | Device restored from db\n",
      "2020-08-25 11:07:32,962 - INFO    | You can reconnect to network using : \"device.connect(network=bacnet)\"\n",
      "2020-08-25 11:07:32,963 - INFO    | Wait while stopping polling\n",
      "2020-08-25 11:07:32,964 - INFO    | Polling stopped\n",
      "2020-08-25 11:07:33,017 - INFO    | Device saved to Betelgeuse.db\n",
      "2020-08-25 11:07:33,018 - INFO    | Changing device state to DeviceFromDB'>\n",
      "2020-08-25 11:07:33,018 - INFO    | Initializing DB\n",
      "2020-08-25 11:07:33,033 - INFO    | Device restored from db\n",
      "2020-08-25 11:07:33,034 - INFO    | You can reconnect to network using : \"device.connect(network=bacnet)\"\n",
      "2020-08-25 11:07:34,534 - INFO    | BACnet stopped\n"
     ]
    }
   ],
   "source": [
    "bacnet.disconnect()"
   ]
  },
  {
   "cell_type": "code",
   "execution_count": null,
   "metadata": {},
   "outputs": [],
   "source": []
  }
 ],
 "metadata": {
  "kernelspec": {
   "display_name": "Python 3",
   "language": "python",
   "name": "python3"
  },
  "language_info": {
   "codemirror_mode": {
    "name": "ipython",
    "version": 3
   },
   "file_extension": ".py",
   "mimetype": "text/x-python",
   "name": "python",
   "nbconvert_exporter": "python",
   "pygments_lexer": "ipython3",
   "version": "3.7.4"
  }
 },
 "nbformat": 4,
 "nbformat_minor": 1
}
